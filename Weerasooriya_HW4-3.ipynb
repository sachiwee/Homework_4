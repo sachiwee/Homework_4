{
 "cells": [
  {
   "cell_type": "markdown",
   "metadata": {},
   "source": [
    "# N Body Problem"
   ]
  },
  {
   "cell_type": "markdown",
   "metadata": {},
   "source": [
    "In physics the problem of two bodies orbiting one another can be solved neatly, and analytically.\n",
    "Likewise, approximates can be made for a 3 or 4 body system assuming that the additional bodies\n",
    "have masses much smaller than the original 2. However, as soon as we deal with the problem of\n",
    "more than 2 bodies of equivalent mass things become chaotic and require numerical methods to\n",
    "solve them. This is the N-body problem is physics.<br>\n",
    "\n",
    "The physics of the N-body problem is governed by the equations of gravity so that for the i\n",
    "th body of the system the force from the other bodies in a system of N-bodies is"
   ]
  },
  {
   "cell_type": "markdown",
   "metadata": {},
   "source": [
    "$$Fi=M_i a_i=M_i\\frac{d^2x}{dt^2}=\\sum_{1,i!=j}^N \\frac{G M_i M_j}{{|r_i-r_j|}^2}$$"
   ]
  },
  {
   "cell_type": "markdown",
   "metadata": {},
   "source": [
    "You have the following system, two stars of equal mass orbit around their common center of mass\n",
    "a distance of 50 AU apart. <br>\n",
    "A third star with mass of 1/2 that of the inner two stars orbits the center of mass of the system with a pericenter of 30 AU and a apocenter of 2000 AU. The orbit of the 3rd star is also inclined relative to the plane of the inner two stars by 13 degrees. Starting star 3 at its apocenter, <br>\n",
    "\n",
    "Do the calculation for a clockwise and counterclockwise rotation for M1 and M2.\n",
    "\n",
    "<br>\n",
    "\n",
    "Start your calculation with 1000 timesteps and then explore what occurs when you increase or decrease the number of timesteps. Do you notice any computational glitches? Do you believe your\n",
    "answers?\n",
    "\n",
    "When number of timesteps N is decreased, velocity and acceleration of orbits are calculated at very few points. But when N is increased velocity and accelerations are calculated at each of those points. Hence, a higher N is more \n",
    "helpful in determining trends in velocities and accelerations with time.\n",
    "\n",
    "For each case make the following plots.<br>\n",
    "• Magnitude of the velocity and acceleration of the stars as a function of time.<br>\n",
    "• Orbits of the three stars as a function of time.\n",
    "\n",
    "Required for the graduate students, option for undergraduates.\n",
    "• We have initially assumed M3 = 1 M\n",
    "\n",
    "Run the code assuming M3 = [0.1,1.0,2.0,5.0] $M_{\\odot}$\n",
    "\n",
    "What differences do you see?"
   ]
  },
  {
   "cell_type": "markdown",
   "metadata": {},
   "source": []
  },
  {
   "cell_type": "code",
   "execution_count": null,
   "metadata": {
    "collapsed": true
   },
   "outputs": [],
   "source": [
    "import numpy as np\n",
    "import matplotlib.pyplot as plt"
   ]
  },
  {
   "cell_type": "code",
   "execution_count": null,
   "metadata": {
    "collapsed": true
   },
   "outputs": [],
   "source": [
    "#constants\n",
    "G=4*np.pi*np.pi\n",
    "\n",
    "#M1=M2=M=1 Solar mass\n",
    "M=1\n",
    "M1=M\n",
    "M2=M\n",
    "\n",
    "\n",
    "#delta(inclination with the z axis)\n",
    "delta=13*(np.pi/180)"
   ]
  },
  {
   "cell_type": "code",
   "execution_count": null,
   "metadata": {
    "collapsed": true
   },
   "outputs": [],
   "source": [
    "def f(s,t):\n",
    "    '''Computes the derivative of s at t=0 for star 3'''\n",
    "    x=s[0]\n",
    "    y=s[1]\n",
    "    z=s[2]\n",
    "    \n",
    "    \n",
    "    vx=s[3]\n",
    "    vy=s[4]\n",
    "    vz=s[5]\n",
    "    r=np.sqrt(x*x+y*y+z*z)\n",
    "    ax=G*(M1+M2)*x/(r*r*r)\n",
    "    ay=G*(M1+M2)*y/(r*r*r)\n",
    "    az=G*(M1+M2)*z/(r*r*r)\n",
    "   \n",
    "    return np.array([vx,vy,vz,ax,ay,az],float)\n"
   ]
  },
  {
   "cell_type": "code",
   "execution_count": null,
   "metadata": {
    "collapsed": true
   },
   "outputs": [],
   "source": [
    "def RK4(s,t):\n",
    "    '''Solves for r, velocity for star star 3 '''\n",
    "    x=[]\n",
    "    y=[]\n",
    "    z=[]\n",
    "    \n",
    "    vx=[]\n",
    "    vy=[]\n",
    "    vz=[]\n",
    "    \n",
    "    h=t[1]-t[0]\n",
    "    \n",
    "    for i in t:\n",
    "        x.append(s[0])\n",
    "        y.append(s[1])\n",
    "        z.append(s[2])\n",
    "        \n",
    "        vx.append(s[3])\n",
    "        vy.append(s[4])\n",
    "        vz.append(s[5])\n",
    "        \n",
    "        \n",
    "        k1=h*f(s,i)\n",
    "        k2=h*f(s+0.5*k1,i+0.5*h)\n",
    "        k3=h*f(s+0.5*k2,i+0.5*h)\n",
    "        k4=h*f(s+k3,i+h)\n",
    "        s=s+((k1+2*k2+2*k3+k4)/6)\n",
    "        \n",
    "    return x,y,z,vx,vy,vz"
   ]
  },
  {
   "cell_type": "code",
   "execution_count": null,
   "metadata": {
    "collapsed": true
   },
   "outputs": [],
   "source": [
    "def f12(s1,t,star,M3):\n",
    "    '''Computes the derivative of r and velocity at t=0 for star 1,2'''\n",
    "    x=s1[0]\n",
    "    y=s1[1]\n",
    "    z=s1[2]\n",
    "    \n",
    "    vx=s1[3]\n",
    "    vy=s1[4]\n",
    "    vz=s1[5]\n",
    "    \n",
    "    r10=25\n",
    "    r20=r10\n",
    "    r30=2000\n",
    "    r12=50\n",
    "    \n",
    "\n",
    "    if(star==1):\n",
    "        r13=np.sqrt(r10*r10+r30*r30)\n",
    "        ax=(G*M2*x/(r12*r12*r12))+(G*M3*x/(r13*r13*r13))\n",
    "        ay=(G*M2*y/(r12*r12*r12))+(G*M3*y/(r13*r13*r13))\n",
    "        az=(G*M2*z/(r12*r12*r12))+(G*M3*z/(r13*r13*r13))\n",
    "        \n",
    "    else:\n",
    "        r23=np.sqrt(r20*r20+r30*r30)\n",
    "        ax=(G*M1*x/(r12*r12*r12))+(G*M3*x/(r23*r23*r23))\n",
    "        ay=(G*M1*y/(r12*r12*r12))+(G*M3*y/(r23*r23*r23))\n",
    "        az=(G*M1*z/(r12*r12*r12))+(G*M3*z/(r23*r23*r23))\n",
    "    return np.array([vx,vy,vz,ax,ay,az],float)\n",
    "\n",
    "def RK412(s1,t,star,M3):\n",
    "    '''Solves for x,y,z velocity for star star 1,2 '''\n",
    "    \n",
    "    x=[]\n",
    "    y=[]\n",
    "    z=[]\n",
    "    \n",
    "    vx=[]\n",
    "    vy=[]\n",
    "    vz=[]\n",
    "    \n",
    "    h=t[1]-t[0]\n",
    "   \n",
    "    for i in t:\n",
    "        x.append(s1[0])\n",
    "        y.append(s1[1])\n",
    "        z.append(s1[2])\n",
    "        \n",
    "        vx.append(s1[3])\n",
    "        vy.append(s1[4])\n",
    "        vz.append(s1[5])\n",
    "        \n",
    "        \n",
    "        if(star==1):\n",
    "            k1=h*f12(s1,i,1,M3)\n",
    "            k2=h*f12(s1+0.5*k1,i+0.5*h,1,M3)\n",
    "            k3=h*f12(s1+0.5*k2,i+0.5*h,1,M3)\n",
    "            k4=h*f12(s1+k3,i+h,1,M3)\n",
    "            s1=s1+((k1+2*k2+2*k3+k4)/6)\n",
    "            \n",
    "        else:\n",
    "            k1=h*f12(s1,i,2,M3)\n",
    "            k2=h*f12(s1+0.5*k1,i+0.5*h,2,M3)\n",
    "            k3=h*f12(s1+0.5*k2,i+0.5*h,2,M3)\n",
    "            k4=h*f12(s1+k3,i+h,2,M3)\n",
    "            s1=s1+((k1+2*k2+2*k3+k4)/6)\n",
    "    return x,y,z,vx,vy,vz"
   ]
  },
  {
   "cell_type": "code",
   "execution_count": null,
   "metadata": {
    "collapsed": false
   },
   "outputs": [],
   "source": [
    "##############################INITIAL CONDITIONS#########################################\n",
    "#star 1----------------------------------------------------------------------------------\n",
    "#Initial x,y,z\n",
    "x10=0\n",
    "y10=-25\n",
    "z10=0\n",
    "\n",
    "r10=25\n",
    "#initial velocity\n",
    "v10x=np.sqrt(G*M2**2/((2*r10)*(M1+M2)))\n",
    "v10y=0\n",
    "v10z=0\n",
    "\n",
    "#anticlockwise initial conditions\n",
    "s1_ac=np.array([x10,y10,z10,v10x,v10y,v10z])\n",
    "\n",
    "#clockwise initial conditions\n",
    "s1_c=np.array([x10,y10,z10,-v10x,v10y,v10z])\n",
    "\n",
    "#star2-----------------------------------------------------------------------------------\n",
    "#initial x,y,z\n",
    "x20=0\n",
    "y20=25\n",
    "z20=0\n",
    "\n",
    "r20=25\n",
    "#initial velocity\n",
    "v20x=-np.sqrt(G*M1**2/((2*r10)*(M1+M2)))\n",
    "v20y=0\n",
    "v20z=0\n",
    "\n",
    "#anticlockwise initial conditions\n",
    "s2_ac=np.array([x20,y20,z20,v20x,v20y,v20z])\n",
    "\n",
    "s2_c=np.array([x20,y20,z20,-v20x,v20y,v20z])\n",
    "\n",
    "\n",
    "#star3----------------------------------------------------------------------------------\n",
    "r0=2000\n",
    "#initial x,y,z\n",
    "x30=-2000*np.cos(delta)\n",
    "y30=-2000*np.sin(delta)\n",
    "z30=0\n",
    "\n",
    "#Initial velocity\n",
    "a=2030/2\n",
    "v0=np.sqrt(G*(M1+M2)*((2/r0)-(1/a)))\n",
    "v30x=0\n",
    "v30y=v0*np.cos((np.pi/2)-delta)\n",
    "v30z=-v0*np.sin((np.pi/2)-delta)\n",
    "\n",
    "#array s with initial values\n",
    "#anti clockwise direction\n",
    "s_ac=np.array([x30,y30,z30,v30x,v30y,v30z])\n",
    "\n",
    "#clockwise direction\n",
    "s_c=np.array([x30,y30,z30,v30x,-v30y,-v30z])\n",
    "########################################################################################"
   ]
  },
  {
   "cell_type": "code",
   "execution_count": null,
   "metadata": {
    "collapsed": true
   },
   "outputs": [],
   "source": [
    "def calculate(N1,m3):\n",
    "    '''Calculates r,v,a for stars 1,2,3 and produce plots'''\n",
    "    '''Returns 2 figures, fig-r vs t in xyz planes and fig1-velocity vs t,acceleration vs t'''\n",
    "    #For star 3\n",
    "    M3=m3\n",
    "    #semi-major axis\n",
    "    a=2030/2\n",
    "\n",
    "    #epicenter\n",
    "    b=np.sqrt(2000*30)\n",
    "\n",
    "    #period of star 3\n",
    "    p=2*np.pi*np.sqrt((a*a*a)/(G*(M1+M2+M3)))#timesteps\n",
    "    N=N1\n",
    "\n",
    "    #time star 3\n",
    "    t=np.linspace(0,p,N)\n",
    "\n",
    "\n",
    "    #########calculation of r,v,a#################################################################\n",
    "    \n",
    "    #star3---------------------------------------------------------------------------------------\n",
    "    #positions and velocities for star 3\n",
    "    x3,y3,z3,v3x,v3y,v3z=RK4(s_ac,t)\n",
    "\n",
    "    \n",
    "\n",
    "    #star1----------------------------------------------------------------------------------------\n",
    "    #positions and velocities for star 1\n",
    "    x1,y1,z1,v1x,v1y,v1z=RK412(s1_ac,t,1,M3)\n",
    "\n",
    "    \n",
    " \n",
    "    #star2------------------------------------------------------------------------------------------\n",
    "\n",
    "    #positions and velocities for star 2\n",
    "    x2,y2,z2,v2x,v2y,v2z=RK412(s2_ac,t,2,M3)\n",
    "\n",
    "    \n",
    "    \n",
    "    ########plots#################################################################################\n",
    "\n",
    "    fig=plt.figure(figsize=(20,4))\n",
    "    legend=['Star 1','Star 2','Star 3']\n",
    "\n",
    "    ax=fig.add_subplot(131)\n",
    "    ax.scatter(x1,y1,c='r',marker='.',s=1)\n",
    "    ax.scatter(x2,y2,c='b',marker='.',s=1)\n",
    "    #ax.scatter(x3,y3,c='g',marker='.',s=1)\n",
    "    ax.legend(legend)\n",
    "    ax.set_title('x vs y')\n",
    "    ax.set_xlabel('x [AU]')\n",
    "    ax.set_ylabel('y [AU]')\n",
    "\n",
    "\n",
    "    ax1=fig.add_subplot(132)\n",
    "    ax1.scatter(y1,z1,c='r',marker='.',s=1)\n",
    "    ax1.scatter(y2,z2,c='b',marker='.',s=1)\n",
    "    #ax1.scatter(y3,z3,c='g',marker='.',s=1)\n",
    "    ax1.set_title('y vs z')\n",
    "    ax1.set_xlabel('y [AU]')\n",
    "    ax1.set_ylabel('Z [AU]')\n",
    "    ax1.legend(legend)\n",
    "\n",
    "    ax2=fig.add_subplot(133)\n",
    "    ax2.scatter(x1,z1,c='r',marker='.',s=1)\n",
    "    ax2.scatter(x2,z2,c='b',marker='.',s=1)\n",
    "    #ax2.scatter(x3,z3,c='g',marker='.',s=1)\n",
    "    ax2.legend(legend)\n",
    "    ax2.set_title('x vs z')\n",
    "    ax2.set_xlabel('x [AU]')\n",
    "    ax2.set_ylabel('z [AU]')\n",
    "\n",
    "    plt.show()\n",
    "\n",
    "    title='|Velocity| vs Time (M3={}) and N={}'.format(M3,N)\n",
    "    fig1=plt.figure(figsize=(20,5))\n",
    "    ax3=fig1.add_subplot(121)\n",
    "\n",
    "#     ax3.scatter(t,v1,c='r',marker='.',s=1)\n",
    "#     ax3.scatter(t,v2,c='b',marker='.',s=1)\n",
    "    #ax3.scatter(t,velocity,c='g',marker='.',s=1)\n",
    "\n",
    "    ax3.set_title(title,size=15)\n",
    "    ax3.set_xlabel('Time [years]',size=14)\n",
    "    ax3.set_ylabel('Velocity [$AU$ $yr^{-1}$]',size=14)\n",
    "\n",
    "\n",
    "    ax4=fig1.add_subplot(122)\n",
    "#     ax4.plot(t,a1,'r.')\n",
    "#     ax4.plot(t,a2,'b.')\n",
    "#     ax4.plot(t,a3,'g.')\n",
    "\n",
    "    ax4.set_title('|Acceleration| vs Time (M3={}) and N={}'.format(M3,N),size=15)\n",
    "    ax4.set_xlabel('Time [years]',size=14)\n",
    "    ax4.set_ylabel('Acceleration [$AU$ $yr^{-2}$]',size=14)\n",
    "    \n",
    "    \n",
    "    plt.show()\n",
    "    return fig,fig1"
   ]
  },
  {
   "cell_type": "code",
   "execution_count": null,
   "metadata": {
    "collapsed": false,
    "scrolled": true
   },
   "outputs": [],
   "source": [
    "calculate(10000,0)"
   ]
  },
  {
   "cell_type": "code",
   "execution_count": null,
   "metadata": {
    "collapsed": false
   },
   "outputs": [],
   "source": [
    "calculate(10,0.1)"
   ]
  },
  {
   "cell_type": "code",
   "execution_count": null,
   "metadata": {
    "collapsed": true
   },
   "outputs": [],
   "source": [
    "# fig1=plt.figure(figsize=(20,4))\n",
    "\n",
    "\n",
    "# ax3=fig1.add_subplot(131)\n",
    "# ax3.scatter(t,v1_x,c='r',marker='.',s=1)\n",
    "# ax3.scatter(t,v2_x,c='b',marker='.',s=1)\n",
    "# ax3.scatter(t,v3_x,c='g',marker='.',s=1)\n",
    "# ax3.set_title('$v_x$ vs t')\n",
    "# ax3.set_xlabel('t [years]')\n",
    "# ax3.set_ylabel('v [AU $yr^{-1}$]')\n",
    "# ax3.legend(legend)\n",
    "\n",
    "# ax4=fig1.add_subplot(132)\n",
    "# ax4.scatter(t,v1_y,c='r',marker='.',s=1)\n",
    "# ax4.scatter(t,v2_y,c='b',marker='.',s=1)\n",
    "# ax4.scatter(t,v3_y,c='g',marker='.',s=1)\n",
    "# ax4.set_title('$v_y$ vs t')\n",
    "# ax4.set_xlabel('t [years]')\n",
    "# ax4.set_ylabel('v [AU $yr^{-1}$]')\n",
    "# ax4.legend(legend)\n",
    "\n",
    "# ax5=fig1.add_subplot(133)\n",
    "# ax5.scatter(t,v1_z,c='r',marker='.',s=1)\n",
    "# ax5.scatter(t,v2_z,c='b',marker='.',s=1)\n",
    "# ax5.scatter(t,v3_z,c='g',marker='.',s=1)\n",
    "# ax5.set_title('$v_z$ vs t')\n",
    "# ax5.set_xlabel('t [years]')\n",
    "# ax5.set_ylabel('v [AU $yr^{-1}$]')\n",
    "# ax5.legend(legend)\n",
    "# plt.show()\n"
   ]
  },
  {
   "cell_type": "code",
   "execution_count": null,
   "metadata": {
    "collapsed": true
   },
   "outputs": [],
   "source": [
    "# fig2=plt.figure(figsize=(20,4))\n",
    "\n",
    "# ax6=fig2.add_subplot(131)\n",
    "# ax6.scatter(t,a1_x,c='r',marker='.',s=1)\n",
    "# ax6.scatter(t,a2_x,c='b',marker='.',s=1)\n",
    "# ax6.scatter(t,a3_x,c='g',marker='.',s=1)\n",
    "# ax6.set_title('$a_x$ vs t')\n",
    "# ax6.set_xlabel('t [years]')\n",
    "# ax6.set_ylabel('a [AU $yr^{-2}$]')\n",
    "# ax6.legend(legend)\n",
    "\n",
    "# ax7=fig2.add_subplot(132)\n",
    "# ax7.scatter(t,a1_y,c='r',marker='.',s=1)\n",
    "# ax7.scatter(t,a2_y,c='b',marker='.',s=1)\n",
    "# ax7.scatter(t,a3_y,c='g',marker='.',s=1)\n",
    "# ax7.set_title('$a_y$ vs t')\n",
    "# ax7.set_xlabel('t [years]')\n",
    "# ax7.set_ylabel('a [AU $yr^{-2}$]')\n",
    "# ax7.legend(legend)\n",
    "\n",
    "# ax8=fig2.add_subplot(133)\n",
    "# ax8.scatter(t,a1_z,c='r',marker='.',s=1)\n",
    "# ax8.scatter(t,a2_z,c='b',marker='.',s=1)\n",
    "# ax8.scatter(t,a3_z,c='g',marker='.',s=1)\n",
    "# ax8.set_title('$a_z$ vs t')\n",
    "# ax8.set_xlabel('t [years]')\n",
    "# ax8.set_ylabel('a [AU $yr^{-2}$]')\n",
    "# ax8.legend(legend)\n",
    "# plt.show()\n"
   ]
  },
  {
   "cell_type": "code",
   "execution_count": null,
   "metadata": {
    "collapsed": true
   },
   "outputs": [],
   "source": [
    "from scipy.integrate import odeint"
   ]
  },
  {
   "cell_type": "code",
   "execution_count": null,
   "metadata": {
    "collapsed": false
   },
   "outputs": [],
   "source": [
    "a=2030/2\n",
    "M3=1\n",
    "p=2*np.pi*np.sqrt((a*a*a)/(G*(M1+M2)))#timesteps\n",
    "\n",
    "N=1000\n",
    "\n",
    "    #time star 3\n",
    "t=np.linspace(0,p,N)\n",
    "solver=odeint(f12,s1_ac,t,args=(1,M3))"
   ]
  },
  {
   "cell_type": "code",
   "execution_count": null,
   "metadata": {
    "collapsed": false
   },
   "outputs": [],
   "source": [
    "r1=solver[:,0]\n",
    "plt.plot(t,r1)\n",
    "plt.show()\n"
   ]
  },
  {
   "cell_type": "code",
   "execution_count": null,
   "metadata": {
    "collapsed": false
   },
   "outputs": [],
   "source": [
    "e=(2000.0-30.0)/(2030.0)\n",
    "theta0=delta+np.pi\n",
    "thetaf=theta0+2*np.pi\n",
    "\n",
    "theta=np.linspace(theta0,thetaf,1000)\n",
    "r=(a*(1-e*e))/(1+e*np.cos(theta-delta))\n",
    "print(e)"
   ]
  },
  {
   "cell_type": "code",
   "execution_count": null,
   "metadata": {
    "collapsed": false
   },
   "outputs": [],
   "source": [
    "print(r[500])\n",
    "print(a*(1-e))\n",
    "\n",
    "y=r*np.cos(theta+delta)\n",
    "z=r*np.sin(theta+delta)\n",
    "plt.plot(t,r)"
   ]
  },
  {
   "cell_type": "code",
   "execution_count": null,
   "metadata": {
    "collapsed": true
   },
   "outputs": [],
   "source": []
  },
  {
   "cell_type": "code",
   "execution_count": null,
   "metadata": {
    "collapsed": true
   },
   "outputs": [],
   "source": []
  },
  {
   "cell_type": "code",
   "execution_count": null,
   "metadata": {
    "collapsed": true
   },
   "outputs": [],
   "source": []
  }
 ],
 "metadata": {
  "kernelspec": {
   "display_name": "Python 3",
   "language": "python",
   "name": "python3"
  },
  "language_info": {
   "codemirror_mode": {
    "name": "ipython",
    "version": 3
   },
   "file_extension": ".py",
   "mimetype": "text/x-python",
   "name": "python",
   "nbconvert_exporter": "python",
   "pygments_lexer": "ipython3",
   "version": "3.6.1"
  }
 },
 "nbformat": 4,
 "nbformat_minor": 2
}
